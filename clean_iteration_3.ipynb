{
 "cells": [
  {
   "cell_type": "code",
   "execution_count": 17,
   "id": "1fc54c03-2f0d-4d97-9681-23e0709a754d",
   "metadata": {},
   "outputs": [],
   "source": [
    "import numpy as np\n",
    "import pandas as pd\n",
    "import matplotlib.pyplot as plt\n",
    "import seaborn as sns\n",
    "import os\n",
    "import math\n",
    "import smtplib\n",
    "\n",
    "from sklearn.metrics import mean_squared_error\n",
    "# load dataset\n",
    "from pandas import read_csv\n",
    "\n",
    "from sklearn.model_selection import train_test_split\n",
    "\n",
    "\n",
    "from datetime import datetime\n",
    "from sklearn.metrics import confusion_matrix, cohen_kappa_score, classification_report\n",
    "\n",
    "from sklearn.linear_model import LogisticRegression\n",
    "from sklearn.ensemble import RandomForestClassifier\n",
    "\n",
    "\n",
    "from sklearn.metrics import jaccard_score\n",
    "from sklearn.metrics import f1_score\n",
    "from sklearn.metrics import log_loss\n",
    "from sklearn.metrics import accuracy_score\n",
    "from sklearn.metrics import precision_score\n",
    "from sklearn.metrics import recall_score\n",
    "from sklearn import preprocessing\n",
    "\n",
    "from sklearn import svm\n",
    "from sklearn.ensemble import AdaBoostClassifier\n",
    "from sklearn import ensemble"
   ]
  },
  {
   "cell_type": "code",
   "execution_count": 18,
   "id": "d3af3f34-07ef-4ce1-878f-293a53ed85a9",
   "metadata": {},
   "outputs": [],
   "source": [
    "def split_accounts_into_dict(trans):\n",
    "\n",
    "    unique_accounts = pd.unique(trans['accountNumber'])\n",
    "    account_story = dict()\n",
    "    \n",
    "    for a in unique_accounts:\n",
    "        d = trans.query('accountNumber == @a') \n",
    "        d.sort_values(by = 'transactionTime')\n",
    "        account_story[a] = d\n",
    "        \n",
    "    return account_story\n",
    "\n",
    "\n"
   ]
  },
  {
   "cell_type": "code",
   "execution_count": 19,
   "id": "6c361cf0-ef82-42a1-a3cb-613aae15f78c",
   "metadata": {},
   "outputs": [],
   "source": [
    "def plot_transactions(d, cols = np.array(['blue','red'])):\n",
    "    x = np.arange(0, len(d), 1)\n",
    "    y = d['transactionAmount'].tolist()\n",
    "    c = cols[d['Fraud'].tolist()]\n",
    "    \n",
    "    plt.figure(figsize = (20,10))\n",
    "    plt.bar(x,y, color = c)\n",
    "    plt.title('Healthy/Fraudulant Transactions for account ' + a)\n"
   ]
  },
  {
   "cell_type": "code",
   "execution_count": 20,
   "id": "1498c6cc-9155-49a8-bafb-cb210e371424",
   "metadata": {},
   "outputs": [],
   "source": [
    "#Plot the most important features in the model\n",
    "def plot_feature_importance(importance,names,model_type):\n",
    "\n",
    "    #Create arrays from feature importance and feature names\n",
    "    feature_importance = np.array(importance)\n",
    "    feature_names = np.array(names)\n",
    "\n",
    "    #Create a DataFrame using a Dictionary\n",
    "    data={'feature_names':feature_names,'feature_importance':feature_importance}\n",
    "    fi_df = pd.DataFrame(data)\n",
    "\n",
    "    #Sort the DataFrame in order decreasing feature importance\n",
    "    fi_df.sort_values(by=['feature_importance'], ascending=False,inplace=True)\n",
    "    \n",
    "    fi_df = fi_df.head(10)\n",
    "    #Define size of bar plot\n",
    "    plt.figure(figsize=(10,8))\n",
    "    #Plot Searborn bar chart\n",
    "    sns.barplot(x=fi_df['feature_importance'], y=fi_df['feature_names'])\n",
    "    #Add chart labels\n",
    "    plt.title(model_type + 'FEATURE IMPORTANCE')\n",
    "    plt.xlabel('FEATURE IMPORTANCE')\n",
    "    plt.ylabel('FEATURE NAMES')"
   ]
  },
  {
   "cell_type": "code",
   "execution_count": 21,
   "id": "fb5625a9-eadb-43b1-9271-4480a1950096",
   "metadata": {},
   "outputs": [],
   "source": [
    "#one hot encoding\n",
    "def compile_dataset(trans, cat_predictors, num_predictors):\n",
    "    data_formatted = pd.DataFrame(index=trans.index)\n",
    "    for c in cat_predictors:\n",
    "        data_formatted = pd.concat([data_formatted, pd.get_dummies(trans[c], prefix = c)], axis = 1)\n",
    "    \n",
    "    for n in num_predictors:\n",
    "        \n",
    "        data_formatted = pd.concat([data_formatted, trans[n]], axis = 1)\n",
    "        \n",
    "    return data_formatted"
   ]
  },
  {
   "cell_type": "markdown",
   "id": "329633fa-ee25-4238-bf3d-ad19838cab47",
   "metadata": {
    "tags": []
   },
   "source": [
    "## Importing data from CSV"
   ]
  },
  {
   "cell_type": "code",
   "execution_count": 22,
   "id": "c9975f10-5c90-4639-9bba-5455dd1b7753",
   "metadata": {},
   "outputs": [],
   "source": [
    "fraud_fear = pd.read_csv(\"///Users/hocine/Desktop/feature_space/data-new/labels_obf.csv\")"
   ]
  },
  {
   "cell_type": "code",
   "execution_count": 23,
   "id": "7f56db63-c543-4b7d-8c79-0e1742155810",
   "metadata": {},
   "outputs": [],
   "source": [
    "\n",
    "trans = pd.read_csv(\"///Users/hocine/Desktop/feature_space/data-new/transactions_obf.csv\")"
   ]
  },
  {
   "cell_type": "markdown",
   "id": "9f89248d-80e7-431f-9b7d-d47978dae25d",
   "metadata": {
    "tags": []
   },
   "source": [
    "## Exploratory Analysis"
   ]
  },
  {
   "cell_type": "code",
   "execution_count": 24,
   "id": "22dd8d7c-9a4d-448c-8281-d77e33a4e080",
   "metadata": {},
   "outputs": [
    {
     "data": {
      "text/plain": [
       "'\\nSTEP 1: \\n'"
      ]
     },
     "execution_count": 24,
     "metadata": {},
     "output_type": "execute_result"
    }
   ],
   "source": [
    "\n",
    "\"\"\"\n",
    "STEP 1: \n",
    "\"\"\""
   ]
  },
  {
   "cell_type": "code",
   "execution_count": 25,
   "id": "9f9de517-d35b-461d-8fb1-679711868017",
   "metadata": {},
   "outputs": [],
   "source": [
    "set_fraud_ids = set(fraud_fear.eventId)\n",
    "trans['Fraud'] = trans.eventId.apply(lambda x: 1 if x in set_fraud_ids else 0)\n",
    "trans['transactionTime'] = pd.to_datetime(trans['transactionTime'])\n",
    "\n"
   ]
  },
  {
   "cell_type": "code",
   "execution_count": 26,
   "id": "25af1bd8-dd42-4438-bc48-dd59573aa1df",
   "metadata": {},
   "outputs": [],
   "source": [
    "#Fraud proportions\n",
    "fraud_prop = trans['Fraud'].value_counts(normalize = True)#%Fraud = 0.007%\n",
    "fraud_nbrs = trans['Fraud'].value_counts(normalize = False)#Fraud = 875\n"
   ]
  },
  {
   "cell_type": "code",
   "execution_count": 27,
   "id": "fad07076-69fb-4ad3-a1d7-c6d6f4da7204",
   "metadata": {},
   "outputs": [],
   "source": [
    "#Nbr of accounts\n",
    "nbr_acc = len(pd.unique(trans['accountNumber']))#766 unique accounts\n"
   ]
  },
  {
   "cell_type": "code",
   "execution_count": 28,
   "id": "b7d45a64-aed8-4590-b937-6fe067b3ac5c",
   "metadata": {},
   "outputs": [],
   "source": [
    "#Nbr of unique fraudulant accounts\n",
    "nbr_unique_acc = len(pd.unique(trans.query('Fraud == 1')['accountNumber']))#167\n"
   ]
  },
  {
   "cell_type": "code",
   "execution_count": 29,
   "id": "47bdb223-522b-40d7-bb01-e55482ac06e4",
   "metadata": {},
   "outputs": [
    {
     "data": {
      "text/plain": [
       "'\\nFormat Data: split data per accountNumber associated to a time series of spendings & fraud flags\\n'"
      ]
     },
     "execution_count": 29,
     "metadata": {},
     "output_type": "execute_result"
    }
   ],
   "source": [
    "\n",
    "\"\"\"\n",
    "Format Data: split data per accountNumber associated to a time series of spendings & fraud flags\n",
    "\"\"\""
   ]
  },
  {
   "cell_type": "code",
   "execution_count": 30,
   "id": "6afa230b-834c-48e9-a6bf-5f8cbf685936",
   "metadata": {},
   "outputs": [],
   "source": [
    "fraud_accounts = pd.unique(trans.query('Fraud == 1')['accountNumber'])\n",
    "healthy_accounts = pd.unique(trans.query('Fraud == 0')['accountNumber'])\n"
   ]
  },
  {
   "cell_type": "code",
   "execution_count": 31,
   "id": "8ba68095-7703-4013-a139-b071fe47c6fe",
   "metadata": {},
   "outputs": [],
   "source": [
    "split_accounts = split_accounts_into_dict(trans)\n"
   ]
  },
  {
   "cell_type": "code",
   "execution_count": 32,
   "id": "31a0585c-2f59-4031-b3ec-8f31343aa33a",
   "metadata": {},
   "outputs": [],
   "source": [
    "#Visualize some account transaction history\n",
    "#for a in np.random.choice(fraud_accounts,50):\n",
    " #   d = split_accounts[a]\n",
    "  #  print('plotting accounts ', a, ' with ', len(d), ' transactions ...')\n",
    "   # plot_transactions(d)\n"
   ]
  },
  {
   "cell_type": "code",
   "execution_count": null,
   "id": "c544764b-29ad-424d-b922-89512320f1fd",
   "metadata": {},
   "outputs": [],
   "source": []
  },
  {
   "cell_type": "markdown",
   "id": "8d9db122-ccb5-47cd-a8bd-ec9711283ad4",
   "metadata": {
    "tags": []
   },
   "source": [
    "## Adding hours column"
   ]
  },
  {
   "cell_type": "code",
   "execution_count": 33,
   "id": "9361b49d-eb72-4bfc-b82e-c081dff9a7ca",
   "metadata": {},
   "outputs": [
    {
     "data": {
      "text/plain": [
       "'\\nTrans Data Set\\n'"
      ]
     },
     "execution_count": 33,
     "metadata": {},
     "output_type": "execute_result"
    }
   ],
   "source": [
    "\"\"\"\n",
    "Trans Data Set\n",
    "\"\"\""
   ]
  },
  {
   "cell_type": "code",
   "execution_count": 34,
   "id": "2a520f8f-8f34-4ec9-a2d3-7108e35c774d",
   "metadata": {},
   "outputs": [],
   "source": [
    "set_fraud_ids = set(fraud_fear.eventId)\n",
    "trans['Fraud'] = trans.eventId.apply(lambda x: 1 if x in set_fraud_ids else 0)"
   ]
  },
  {
   "cell_type": "code",
   "execution_count": 35,
   "id": "e2be72ad-84eb-4d55-b0bf-071a70fba1fe",
   "metadata": {},
   "outputs": [],
   "source": [
    "trans['transactionTime'] = pd.to_datetime(trans['transactionTime'])\n",
    "#trans['transactionTime'].apply(lambda x: datetime.strptime(x, \"%Y-%m-%dT%H:%M:%SZ\"))\n",
    "#2017-01-01T00:49:03Z\n",
    "#pd.to_datetime(trans['transactionTime'])\n"
   ]
  },
  {
   "cell_type": "code",
   "execution_count": 36,
   "id": "302a51b1-cb80-430f-a0ab-0d56467cf3b3",
   "metadata": {},
   "outputs": [],
   "source": [
    "trans['Date'] = trans['transactionTime'].apply(lambda x: datetime.strftime(x, '%d-%m-%Y') )"
   ]
  },
  {
   "cell_type": "code",
   "execution_count": 37,
   "id": "a1430fed-6c74-4564-a227-844824511d1f",
   "metadata": {},
   "outputs": [],
   "source": [
    "trans['Time'] = trans['transactionTime'].apply(lambda x: datetime.strftime(x, '%H:%M') )"
   ]
  },
  {
   "cell_type": "code",
   "execution_count": 38,
   "id": "2bbed5f8-747e-4829-8094-6450fedc56f5",
   "metadata": {},
   "outputs": [],
   "source": [
    "trans['hours'] = trans['transactionTime'].apply(lambda x: datetime.strftime(x, \"H_%H\"))"
   ]
  },
  {
   "cell_type": "code",
   "execution_count": 39,
   "id": "8a289c84-f989-4f02-b2eb-c17f0438cf56",
   "metadata": {},
   "outputs": [],
   "source": [
    "#dict_avrgSpentWeekday = avrgSpentWeekday.to_dict()"
   ]
  },
  {
   "cell_type": "code",
   "execution_count": 40,
   "id": "3c1856ed-8421-4578-b5a4-abe14e216dd3",
   "metadata": {},
   "outputs": [],
   "source": [
    "#trans[trans['Fraud']==1]['transWeekDay'].value_counts().plot(kind='bar')"
   ]
  },
  {
   "cell_type": "code",
   "execution_count": 41,
   "id": "7f7ef8c5-44a7-440c-bfbf-eeacc618c51d",
   "metadata": {},
   "outputs": [],
   "source": [
    "#trans[trans['Fraud']==0]['transWeekDay'].value_counts().plot(kind='bar')"
   ]
  },
  {
   "cell_type": "markdown",
   "id": "0c6a3af8-59e5-4457-b7e1-a40d443877e8",
   "metadata": {
    "tags": []
   },
   "source": [
    "## test"
   ]
  },
  {
   "cell_type": "code",
   "execution_count": 42,
   "id": "fa7fa89a-b860-4984-a9f9-20de5060face",
   "metadata": {},
   "outputs": [],
   "source": [
    "#Fraud['hours'].value_counts().plot(kind='bar')"
   ]
  },
  {
   "cell_type": "code",
   "execution_count": null,
   "id": "1c835b99-83b1-471d-8aa2-0412a5d3745c",
   "metadata": {},
   "outputs": [],
   "source": []
  },
  {
   "cell_type": "code",
   "execution_count": 43,
   "id": "4e571fa9-ab73-4471-a195-e09472722f0f",
   "metadata": {},
   "outputs": [],
   "source": [
    "#Fraud = trans[trans['Fraud']==1]"
   ]
  },
  {
   "cell_type": "code",
   "execution_count": 44,
   "id": "1d6ea951-531a-4ea9-ab4c-b35fcd08e1b4",
   "metadata": {},
   "outputs": [],
   "source": [
    "#Fraud['hours_group'] = Fraud['hours'].apply(lambda x: dict_hour_classes[x])\n"
   ]
  },
  {
   "cell_type": "code",
   "execution_count": 45,
   "id": "8bc48e43-9f6b-4038-93ca-fd05c4f6160f",
   "metadata": {},
   "outputs": [],
   "source": [
    "#Fraud['hours_group'].value_counts().plot(kind='bar')"
   ]
  },
  {
   "cell_type": "code",
   "execution_count": 46,
   "id": "a780f86f-33aa-4cd4-93fe-a0e691395e9e",
   "metadata": {},
   "outputs": [],
   "source": [
    "#Fraud['hours_group'].value_counts().plot.pie(autopct='%.2f')"
   ]
  },
  {
   "cell_type": "markdown",
   "id": "18201fb1-4879-44a4-9988-c95374d52567",
   "metadata": {},
   "source": [
    "IS there a relation ship between group hours and posEntryMode"
   ]
  },
  {
   "cell_type": "code",
   "execution_count": null,
   "id": "464c51d2-c82e-484f-a2a4-cfb67e29faaa",
   "metadata": {},
   "outputs": [],
   "source": []
  },
  {
   "cell_type": "code",
   "execution_count": 47,
   "id": "4555f6b5-17bf-485a-93fd-502176f4a4ba",
   "metadata": {},
   "outputs": [],
   "source": [
    "#CrosstabResult = pd.crosstab(index=Fraud['hours_group'], columns=Fraud['posEntryMode'])\n",
    "#print(CrosstabResult)"
   ]
  },
  {
   "cell_type": "code",
   "execution_count": null,
   "id": "00aef441-82fa-4093-ae80-1595c4a2bc05",
   "metadata": {},
   "outputs": [],
   "source": []
  },
  {
   "cell_type": "code",
   "execution_count": 48,
   "id": "72bbf5cc-8307-4500-8e36-8aa0a1551002",
   "metadata": {},
   "outputs": [],
   "source": [
    "#IS there a relation ship between group hours and merchantCountr#y"
   ]
  },
  {
   "cell_type": "code",
   "execution_count": 49,
   "id": "b930ff20-1fa9-4e87-b2fa-44022399ee26",
   "metadata": {},
   "outputs": [],
   "source": [
    "#CrosstabResult_mc = pd.crosstab(index=Fraud['hours_group'], columns=Fraud['merchantCountry'])\n",
    "#print(CrosstabResult_mc)"
   ]
  },
  {
   "cell_type": "code",
   "execution_count": 50,
   "id": "a0d7d9c9-ecd6-43c9-be05-3de125eda9b2",
   "metadata": {},
   "outputs": [],
   "source": [
    "\n",
    "#plt.scatter(fraud_fear[\"Time\"],fraud_fear['Date'])\n",
    "#plt.show()"
   ]
  },
  {
   "cell_type": "code",
   "execution_count": 51,
   "id": "625f7d84-762e-4024-95c2-d759c13388fd",
   "metadata": {},
   "outputs": [],
   "source": [
    "\n",
    "#fraud_fear['hours'] = fraud_fear['transactionTime'].apply(lambda x: datetime.strftime(x, \"H_%H\"))"
   ]
  },
  {
   "cell_type": "code",
   "execution_count": 52,
   "id": "175dab90-5f8f-44e3-a2f1-23f3db51da90",
   "metadata": {},
   "outputs": [],
   "source": [
    "#fraud_fear['hours'].value_counts().plot(kind='bar')\n"
   ]
  },
  {
   "cell_type": "code",
   "execution_count": 53,
   "id": "58b18d42-ab17-4846-a1ef-a30d132b1651",
   "metadata": {},
   "outputs": [],
   "source": [
    "#plt.scatter(no_fraud_fear[\"Time\"],no_fraud_fear['Date'])\n",
    "#plt.show()"
   ]
  },
  {
   "cell_type": "markdown",
   "id": "572d23e4-29e2-40fc-952e-283dc1bbbcb8",
   "metadata": {
    "tags": []
   },
   "source": [
    "## One Hot Encoding"
   ]
  },
  {
   "cell_type": "code",
   "execution_count": 54,
   "id": "81ad7bb1-e0d3-4dc4-8753-d3ed4f8ac8f6",
   "metadata": {},
   "outputs": [],
   "source": [
    "\n",
    "cat_predictors = ['mcc', 'merchantCountry', 'posEntryMode']\n",
    "num_predictors = ['transactionAmount', 'availableCash']\n",
    "\n"
   ]
  },
  {
   "cell_type": "markdown",
   "id": "2a49d0da-fdd7-4dc5-8d4e-2a8d384a0e58",
   "metadata": {
    "jp-MarkdownHeadingCollapsed": true,
    "tags": []
   },
   "source": [
    "## Split training test "
   ]
  },
  {
   "cell_type": "code",
   "execution_count": 55,
   "id": "475827bd-113a-4633-8386-6444186bb5d7",
   "metadata": {},
   "outputs": [],
   "source": [
    "\n",
    "# x_nor is containing the normalized values of num_predictors, this is only used for LR\n",
    "Feature_cat = trans[cat_predictors]\n",
    "Feature_num = trans[num_predictors]\n",
    "X_nor = preprocessing.StandardScaler().fit(Feature_num).transform(Feature_num)\n",
    "X_nor = pd.DataFrame(X_nor, columns=num_predictors)\n",
    "\n",
    "#Get dummies \n",
    "X_nor = pd.concat([X_nor,pd.get_dummies(trans['posEntryMode'])], axis=1)\n",
    "X_nor = pd.concat([X_nor,pd.get_dummies(trans['mcc'])], axis=1)\n",
    "X_nor = pd.concat([X_nor,pd.get_dummies(trans['merchantZip'])], axis=1)\n"
   ]
  },
  {
   "cell_type": "code",
   "execution_count": 56,
   "id": "7a8bbb94-c53d-438f-93f2-163f964a68d4",
   "metadata": {},
   "outputs": [
    {
     "name": "stdout",
     "output_type": "stream",
     "text": [
      "Train set: (83034, 3633) (83034,)\n",
      "Test set: (35587, 3633) (35587,)\n"
     ]
    }
   ],
   "source": [
    "y = trans['Fraud']\n",
    "X_train, X_test, y_train, y_test = train_test_split(X_nor, y, test_size = 0.3)\n",
    "\n",
    "print ('Train set:', X_train.shape,  y_train.shape)\n",
    "print ('Test set:', X_test.shape,  y_test.shape)"
   ]
  },
  {
   "cell_type": "code",
   "execution_count": 57,
   "id": "8f2dc74c-5a06-440d-b54d-33a3069ec02b",
   "metadata": {},
   "outputs": [
    {
     "name": "stderr",
     "output_type": "stream",
     "text": [
      "/Users/hocine/miniconda3/lib/python3.9/site-packages/sklearn/utils/validation.py:1688: FutureWarning: Feature names only support names that are all strings. Got feature names with dtypes: ['int', 'str']. An error will be raised in 1.2.\n",
      "  warnings.warn(\n",
      "/Users/hocine/miniconda3/lib/python3.9/site-packages/sklearn/linear_model/_logistic.py:814: ConvergenceWarning: lbfgs failed to converge (status=1):\n",
      "STOP: TOTAL NO. of ITERATIONS REACHED LIMIT.\n",
      "\n",
      "Increase the number of iterations (max_iter) or scale the data as shown in:\n",
      "    https://scikit-learn.org/stable/modules/preprocessing.html\n",
      "Please also refer to the documentation for alternative solver options:\n",
      "    https://scikit-learn.org/stable/modules/linear_model.html#logistic-regression\n",
      "  n_iter_i = _check_optimize_result(\n",
      "/Users/hocine/miniconda3/lib/python3.9/site-packages/sklearn/utils/validation.py:1688: FutureWarning: Feature names only support names that are all strings. Got feature names with dtypes: ['int', 'str']. An error will be raised in 1.2.\n",
      "  warnings.warn(\n"
     ]
    },
    {
     "name": "stdout",
     "output_type": "stream",
     "text": [
      "Logistic Regression \n",
      " Precision =  0.08997050147492626 \n",
      " Recall =  0.48412698412698413 \n",
      "\n"
     ]
    }
   ],
   "source": [
    "\"\"\"\n",
    "MODELS\n",
    "\"\"\"\n",
    "#Logistic Regression***********************************************************\n",
    "#\"Baseline\" model <=> reference\n",
    "#class weight 1:10  Precision =  0.15 | Recall =  0.27\n",
    "#class weight 1:20  Precision =  0.09 | Recall =  0.38\n",
    "\n",
    "lr = LogisticRegression(class_weight = {0:1,\n",
    "                                        1:20})\n",
    "#class_weight better than undersampling cause it keeps ALL the given data\n",
    "lr.fit(X_train, y_train)\n",
    "\n",
    "y_hat_lr = lr.predict(X_test)\n",
    "print('Logistic Regression \\n',\n",
    "      'Precision = ', precision_score(y_test, y_hat_lr), '\\n',\n",
    "      'Recall = ', recall_score(y_test, y_hat_lr), '\\n')\n",
    "#******************************************************************************\n",
    "\n"
   ]
  },
  {
   "cell_type": "code",
   "execution_count": 58,
   "id": "a21f8f3d-4c87-4a1f-892a-956e9fc9bc12",
   "metadata": {},
   "outputs": [
    {
     "name": "stdout",
     "output_type": "stream",
     "text": [
      "Train set: (83034, 455) (83034,)\n",
      "Test set: (35587, 455) (35587,)\n"
     ]
    }
   ],
   "source": [
    "#Get dummies for the non normalized values\n",
    "trans.set_index('eventId', inplace=True)\n",
    "data_pred = compile_dataset(trans, cat_predictors, num_predictors)\n",
    "\n",
    "X= data_pred \n",
    "y = trans['Fraud']\n",
    "X_train, X_test, y_train, y_test = train_test_split(X, y, test_size = 0.3)\n",
    "\n",
    "#X_train, X_test, y_train, y_test = train_test_split( X, y, test_size=0.2, random_state=4)\n",
    "print ('Train set:', X_train.shape,  y_train.shape)\n",
    "print ('Test set:', X_test.shape,  y_test.shape)\n"
   ]
  },
  {
   "cell_type": "code",
   "execution_count": 59,
   "id": "b5e75e9f-1e5b-4561-93ba-f4fb317e1c69",
   "metadata": {},
   "outputs": [
    {
     "name": "stdout",
     "output_type": "stream",
     "text": [
      "Random Forest \n",
      " Precision =  0.448 \n",
      " Recall =  0.4392156862745098 \n",
      "\n"
     ]
    }
   ],
   "source": [
    "#Random Forest***********************************************************\n",
    "#balanced: Random Forest  Precision =  0.61| Recall =  0.38\n",
    "#class weight 1:10  Precision =  0.57 | Recall =  0.42\n",
    "#class weight 1:20 Precision = 0.47 | Recall = 0.43\n",
    "#class weight 1:30 Precision = 0.47 | Recall = 0.39\n",
    "rf = RandomForestClassifier(class_weight = {0:1,\n",
    "                                            1:30})\n",
    "rf.fit(X_train, y_train)\n",
    "\n",
    "y_hat_rf = rf.predict(X_test)\n",
    "print('Random Forest \\n',\n",
    "      'Precision = ', precision_score(y_test, y_hat_rf), '\\n',\n",
    "      'Recall = ', recall_score(y_test, y_hat_rf), '\\n')\n",
    "\n",
    "feat_import = pd.DataFrame({'feature':rf.feature_names_in_,\n",
    "                            'coef':rf.feature_importances_})\n",
    "#Classes seem to be unseperable (completely). In Other words, there is BIG overlapping between Fraudulent \n",
    "#and non fraudulent (see plots of transactions per account number)\n",
    "#One solution would be to predict according to specefic account Number (RNN for example...)\n",
    "#******************************************************************************\n"
   ]
  },
  {
   "cell_type": "code",
   "execution_count": 60,
   "id": "8caaeea4-8c26-4060-a903-5a46e60b7897",
   "metadata": {},
   "outputs": [
    {
     "data": {
      "image/png": "[encoded data removed]",
      "text/plain": [
       "<Figure size 720x576 with 1 Axes>"
      ]
     },
     "metadata": {
      "needs_background": "light"
     },
     "output_type": "display_data"
    }
   ],
   "source": [
    "plot_feature_importance(\n",
    "    rf.feature_importances_,\n",
    "    X_train.columns,\n",
    "    'RANDOM FOREST')"
   ]
  },
  {
   "cell_type": "code",
   "execution_count": null,
   "id": "da578d3a-9a38-4ae7-9a55-1a917127e1ef",
   "metadata": {},
   "outputs": [],
   "source": [
    "#SVM with NON LINEAR KERNELRS (RBF kernel)*************************************\n",
    "\n",
    "#svm_rbf = svm.SVC(kernel='rbf',class_weight = {1:15})\n",
    "#svm_rbf.fit(X_train, y_train)\n",
    "#yhat_rbf = svm_rbf.predict(X_test)\n",
    "#print('SVM \\n',\n",
    " #     'Precision = ', precision_score(y_test, yhat_rbf), '\\n',\n",
    "  #    'Recall = ', recall_score(y_test, yhat_rbf), '\\n')\n",
    "#******************************************************************************\n"
   ]
  },
  {
   "cell_type": "code",
   "execution_count": null,
   "id": "edcb22c0-8d80-4e48-a0fc-344c51146bbc",
   "metadata": {},
   "outputs": [],
   "source": [
    "\n",
    "\n",
    "#ADABOOST *******************************************************************\n",
    "ada = ensemble.AdaBoostClassifier()\n",
    "ada.fit(X_train,y_train)\n",
    "yhat_ada = ada.predict(X_test)\n",
    "\n",
    "print('AdaBoost \\n',\n",
    "      'Precision = ', precision_score(y_test, yhat_ada), '\\n',\n",
    "      'Recall = ', recall_score(y_test, yhat_ada), '\\n')\n",
    "#******************************************************************************\n",
    "\n"
   ]
  },
  {
   "cell_type": "code",
   "execution_count": null,
   "id": "fa83c2a8-e09e-4244-ae21-793a28f3f012",
   "metadata": {},
   "outputs": [],
   "source": []
  },
  {
   "cell_type": "code",
   "execution_count": null,
   "id": "6669ce40-a32d-4a42-8430-e8fbcda51f7a",
   "metadata": {},
   "outputs": [],
   "source": []
  },
  {
   "cell_type": "markdown",
   "id": "0c31f0cc-5b09-4537-a090-0df215ee7212",
   "metadata": {
    "tags": []
   },
   "source": [
    "## Models with new features and weight class"
   ]
  },
  {
   "cell_type": "code",
   "execution_count": null,
   "id": "cf93bbf0-e517-4159-9259-39ef3270de01",
   "metadata": {},
   "outputs": [],
   "source": [
    "\"\"\"\n",
    "Introduction of new features:\n",
    "Adding amountMinusAvrg\n",
    "Adding avrgSpentWeekday\n",
    "\n",
    "\"\"\"\n"
   ]
  },
  {
   "cell_type": "code",
   "execution_count": 61,
   "id": "227007dc-2b10-4c30-b487-0984f3cda363",
   "metadata": {},
   "outputs": [],
   "source": [
    "# amountMinusAvrg contains for each account the amount spent\n",
    "# minus the avreage of the spent amount per account\n",
    "dict_avrg_amount = trans.groupby('accountNumber')['transactionAmount'].mean().to_frame().to_dict()['transactionAmount']\n",
    "trans['amountMinusAvrg'] = trans.apply(lambda x: dict_avrg_amount[x['accountNumber']] - x['transactionAmount'] , axis=1)"
   ]
  },
  {
   "cell_type": "code",
   "execution_count": 62,
   "id": "7492e61d-015e-403c-9f43-e500c69e1d81",
   "metadata": {},
   "outputs": [],
   "source": [
    "#avrgSpentWeekday\n",
    "trans['transWeekDay'] = trans.transactionTime.apply(lambda x: \"Day_%d\"%pd.Timestamp.to_pydatetime(x).weekday())\n",
    "avrgSpentWeekday = trans.groupby(['accountNumber', 'transWeekDay'])['transactionAmount'].mean()\n",
    "dict_avrgSpentWeekday = avrgSpentWeekday.to_dict()\n"
   ]
  },
  {
   "cell_type": "code",
   "execution_count": 63,
   "id": "ef8a0152-29f5-4fba-9b45-b622926505c2",
   "metadata": {},
   "outputs": [],
   "source": [
    "trans['amountMinusAvrgSpentWeekday'] =  trans.apply(\n",
    "    lambda x: x['transactionAmount'] - dict_avrgSpentWeekday[tuple((x['accountNumber'], x['transWeekDay']))]  ,\n",
    "    axis=1)"
   ]
  },
  {
   "cell_type": "code",
   "execution_count": null,
   "id": "1e328dc6-8c45-4aa4-83b3-e27997f447bc",
   "metadata": {
    "tags": []
   },
   "outputs": [],
   "source": []
  },
  {
   "cell_type": "code",
   "execution_count": 64,
   "id": "92e88990-16fc-4162-a8cd-b747dd56e623",
   "metadata": {},
   "outputs": [],
   "source": [
    "set_fraud_ids = set(fraud_fear.eventId)\n",
    "trans['Fraud'] = [ (x in set_fraud_ids) for x in trans.index]\n",
    "#trans.eventId.apply(lambda x: 1 if x in set_fraud_ids else 0)\n",
    "\n",
    "trans['transactionTime'] = pd.to_datetime(trans['transactionTime'])\n",
    "trans['Date'] = trans['transactionTime'].apply(lambda x: datetime.strftime(x, '%d-%m-%Y') )\n",
    "trans['Time'] = trans['transactionTime'].apply(lambda x: datetime.strftime(x, '%H:%M') )\n",
    "\n",
    "trans['hours'] = trans['transactionTime'].apply(lambda x: datetime.strftime(x, \"H_%H\"))\n"
   ]
  },
  {
   "cell_type": "code",
   "execution_count": 65,
   "id": "be5574af-9fe8-497a-8f97-98eca3291ab4",
   "metadata": {},
   "outputs": [],
   "source": [
    "cat_predictors = ['mcc', 'merchantCountry', 'posEntryMode','hours']\n",
    "num_predictors = ['availableCash','amountMinusAvrg','amountMinusAvrgSpentWeekday']\n",
    "#num_predictors = ['amountMinusAvrg','amountMinusAvrgSpentWeekday']\n",
    "\n",
    "data_pred = compile_dataset(trans, cat_predictors, num_predictors)\n"
   ]
  },
  {
   "cell_type": "code",
   "execution_count": null,
   "id": "a0c44c5a-f81a-4f30-85c2-ee26314edfd8",
   "metadata": {},
   "outputs": [],
   "source": [
    "#Split"
   ]
  },
  {
   "cell_type": "code",
   "execution_count": 66,
   "id": "33c8253f-c621-4e7e-a0dc-257a2e796f82",
   "metadata": {},
   "outputs": [],
   "source": [
    "# x_nor is containing the normalized values of num_predictors, this is only used for LR\n",
    "Feature_cat = trans[cat_predictors]\n",
    "Feature_num = trans[num_predictors]\n",
    "X_nor = preprocessing.StandardScaler().fit(Feature_num).transform(Feature_num)\n",
    "\n",
    "X_nor = pd.DataFrame(X_nor, columns=num_predictors, index = trans.index)\n",
    "#Get dummies \n",
    "X_nor = pd.concat([X_nor,pd.get_dummies(trans['posEntryMode'])], axis=1)\n",
    "X_nor = pd.concat([X_nor,pd.get_dummies(trans['mcc'])], axis=1)\n",
    "X_nor = pd.concat([X_nor,pd.get_dummies(trans['merchantCountry'])], axis=1)\n",
    "X_nor = pd.concat([X_nor,pd.get_dummies(trans['hours'])], axis=1)\n"
   ]
  },
  {
   "cell_type": "code",
   "execution_count": 67,
   "id": "e385fa1b-1931-4732-9e97-4a08cd2d9a9d",
   "metadata": {},
   "outputs": [
    {
     "data": {
      "text/plain": [
       "eventId\n",
       "18688431A1    False\n",
       "2164986A1     False\n",
       "Name: Fraud, dtype: bool"
      ]
     },
     "execution_count": 67,
     "metadata": {},
     "output_type": "execute_result"
    }
   ],
   "source": [
    "y = trans['Fraud']\n"
   ]
  },
  {
   "cell_type": "code",
   "execution_count": null,
   "id": "d3c72277-8365-4ae0-b09d-bda934909a4d",
   "metadata": {},
   "outputs": [],
   "source": [
    "y.shape"
   ]
  },
  {
   "cell_type": "code",
   "execution_count": null,
   "id": "d524dee3-7f35-4680-a60d-4f533b0cb075",
   "metadata": {},
   "outputs": [],
   "source": [
    "X_nor.shape\n"
   ]
  },
  {
   "cell_type": "code",
   "execution_count": 68,
   "id": "2bee6a50-4b33-41f2-8cad-c6f10f823f9f",
   "metadata": {},
   "outputs": [],
   "source": [
    "X_train, X_test, y_train, y_test = train_test_split(X_nor, y, test_size = 0.3)\n",
    "#print ('Train set:', X_train.shape,  y_train.shape)\n",
    "#print ('Test set:', X_test.shape,  y_test.shape)"
   ]
  },
  {
   "cell_type": "code",
   "execution_count": null,
   "id": "44b535ea-4933-40b3-b412-c13b5fee8d80",
   "metadata": {},
   "outputs": [],
   "source": [
    "\"\"\"\n",
    "MODELS\n",
    "\"\"\"\n"
   ]
  },
  {
   "cell_type": "code",
   "execution_count": 69,
   "id": "eec723b5-da08-40fe-8b4c-b0db4d5e39aa",
   "metadata": {},
   "outputs": [
    {
     "name": "stderr",
     "output_type": "stream",
     "text": [
      "/Users/hocine/miniconda3/lib/python3.9/site-packages/sklearn/utils/validation.py:1688: FutureWarning: Feature names only support names that are all strings. Got feature names with dtypes: ['int', 'str']. An error will be raised in 1.2.\n",
      "  warnings.warn(\n",
      "/Users/hocine/miniconda3/lib/python3.9/site-packages/sklearn/linear_model/_logistic.py:814: ConvergenceWarning: lbfgs failed to converge (status=1):\n",
      "STOP: TOTAL NO. of ITERATIONS REACHED LIMIT.\n",
      "\n",
      "Increase the number of iterations (max_iter) or scale the data as shown in:\n",
      "    https://scikit-learn.org/stable/modules/preprocessing.html\n",
      "Please also refer to the documentation for alternative solver options:\n",
      "    https://scikit-learn.org/stable/modules/linear_model.html#logistic-regression\n",
      "  n_iter_i = _check_optimize_result(\n",
      "/Users/hocine/miniconda3/lib/python3.9/site-packages/sklearn/utils/validation.py:1688: FutureWarning: Feature names only support names that are all strings. Got feature names with dtypes: ['int', 'str']. An error will be raised in 1.2.\n",
      "  warnings.warn(\n"
     ]
    },
    {
     "name": "stdout",
     "output_type": "stream",
     "text": [
      "Logistic Regression \n",
      " Precision =  0.06635802469135803 \n",
      " Recall =  0.671875 \n",
      "\n"
     ]
    }
   ],
   "source": [
    "#Logistic Regression***********************************************************\n",
    "#\"Baseline\" model <=> reference\n",
    "#class weight 1:10  Precision =  0.15 | Recall =  0.27\n",
    "#class weight 1:20  Precision =  0.09 | Recall =  0.38\n",
    "\n",
    "lr = LogisticRegression(class_weight = {0:1,\n",
    "                                        1:40})\n",
    "#class_weight better than undersampling cause it keeps ALL the given data\n",
    "lr.fit(X_train, y_train)\n",
    "\n",
    "y_hat_lr = lr.predict(X_test)\n",
    "print('Logistic Regression \\n',\n",
    "      'Precision = ', precision_score(y_test, y_hat_lr), '\\n',\n",
    "      'Recall = ', recall_score(y_test, y_hat_lr), '\\n')\n",
    "#******************************************************************************\n"
   ]
  },
  {
   "cell_type": "code",
   "execution_count": null,
   "id": "96aa4e2b-5b21-4064-ba43-154932ec8cfe",
   "metadata": {},
   "outputs": [],
   "source": [
    "X= data_pred \n",
    "y = trans['Fraud']\n",
    "X_train, X_test, y_train, y_test = train_test_split(X, y, test_size = 0.3)\n",
    "\n",
    "print ('Train set:', X_train.shape,  y_train.shape)\n",
    "print ('Test set:', X_test.shape,  y_test.shape)"
   ]
  },
  {
   "cell_type": "code",
   "execution_count": null,
   "id": "54a80ee0-3c2e-4265-9e61-c5767b850158",
   "metadata": {},
   "outputs": [],
   "source": [
    "#Random Forest***********************************************************\n",
    "#balanced: Random Forest  Precision =  0.61| Recall =  0.38\n",
    "#class weight 1:10  Precision =  0.57 | Recall =  0.42\n",
    "#class weight 1:20 Precision = 0.47 | Recall = 0.43\n",
    "#class weight 1:30 Precision = 0.47 | Recall = 0.39\n",
    "rf = RandomForestClassifier(class_weight = {0:1,\n",
    "                                            1:40})\n",
    "rf.fit(X_train, y_train)\n",
    "\n",
    "y_hat_rf = rf.predict(X_test)\n",
    "print('Random Forest \\n',\n",
    "      'Precision = ', precision_score(y_test, y_hat_rf), '\\n',\n",
    "      'Recall = ', recall_score(y_test, y_hat_rf), '\\n')\n",
    "\n",
    "feat_import = pd.DataFrame({'feature':rf.feature_names_in_,\n",
    "                            'coef':rf.feature_importances_})\n",
    "#******************************************************************************\n"
   ]
  },
  {
   "cell_type": "code",
   "execution_count": null,
   "id": "af412af3-165d-4628-a60f-c35e76b37fad",
   "metadata": {},
   "outputs": [],
   "source": [
    "\n",
    "plot_feature_importance(\n",
    "    rf.feature_importances_,\n",
    "    X_train.columns,\n",
    "    'RANDOM FOREST')"
   ]
  },
  {
   "cell_type": "code",
   "execution_count": null,
   "id": "14aa695b-a7dc-492c-8b60-d772671ff048",
   "metadata": {},
   "outputs": [],
   "source": [
    "predict_prob = rf.predict_proba(X_test)\n",
    "y_predict_prob =  pd.Series([x[1] for x in predict_prob], index=X_test.index)\n",
    "\n",
    "for thresh in [.1, .2, .3, .4, .5, .6, .7, .8, .9]:\n",
    "    y_predict =  y_predict_prob > thresh\n",
    "\n",
    "    true_positives = len(\n",
    "        set(y_test[y_test == 1].index).intersection(set(y_predict[y_predict == 1 ].index))\n",
    "    )\n",
    "\n",
    "    true_negatives = len(\n",
    "        set(y_test[y_test == 0].index).intersection(set(y_predict[y_predict == 0 ].index))\n",
    "    )\n",
    "\n",
    "    false_positives = len(\n",
    "        set(y_test[y_test == 0].index).intersection(set(y_predict[y_predict == 1 ].index))\n",
    "    )\n",
    "\n",
    "    false_negatives = len(\n",
    "        set(y_test[y_test == 1].index).intersection(set(y_predict[y_predict == 0 ].index))\n",
    "    )\n",
    "\n",
    "    precision =  round(100*true_positives / (true_positives + false_positives), 0) \n",
    "    recall    =  round(100*true_positives / (true_positives + false_negatives), 0)\n",
    "\n",
    "    print(f'{thresh} {true_positives} {false_positives} {true_negatives}  {false_negatives} {precision} {recall}')"
   ]
  },
  {
   "cell_type": "code",
   "execution_count": null,
   "id": "9c4c738f-c0c4-446c-a686-9144dc2e1bc5",
   "metadata": {},
   "outputs": [],
   "source": []
  },
  {
   "cell_type": "code",
   "execution_count": null,
   "id": "524e678c-8bdb-42bf-8ffb-fd17f0a062b1",
   "metadata": {},
   "outputs": [],
   "source": []
  },
  {
   "cell_type": "code",
   "execution_count": null,
   "id": "2a7ffbf7-4934-49bd-8e26-bffddbff48b0",
   "metadata": {},
   "outputs": [],
   "source": [
    "y_predict_prob.sort_values(ascending=False, inplace=True)"
   ]
  },
  {
   "cell_type": "code",
   "execution_count": null,
   "id": "e426487d-9812-4225-9675-6631ab7bd779",
   "metadata": {},
   "outputs": [],
   "source": [
    "y_predict_prob[:400].index"
   ]
  },
  {
   "cell_type": "code",
   "execution_count": null,
   "id": "59ede6dc-6ab4-431c-8b4c-6a85684ac04f",
   "metadata": {},
   "outputs": [],
   "source": [
    "#SVM with NON LINEAR KERNELRS (RBF kernel)*************************************\n",
    "\n",
    "svm_rbf = svm.SVC(kernel='rbf',class_weight = {1:10})\n",
    "svm_rbf.fit(X_train, y_train)\n",
    "yhat_rbf = svm_rbf.predict(X_test)\n",
    "print('SVM \\n',\n",
    "      'Precision = ', precision_score(y_test, yhat_rbf), '\\n',\n",
    "      'Recall = ', recall_score(y_test, yhat_rbf), '\\n')\n",
    "#******************************************************************************\n"
   ]
  },
  {
   "cell_type": "code",
   "execution_count": null,
   "id": "cc06d2ae-7b34-4a41-ae92-784bdef58b3c",
   "metadata": {},
   "outputs": [],
   "source": []
  },
  {
   "cell_type": "code",
   "execution_count": null,
   "id": "8e8a7c18-5844-432d-b84b-cbda94e47107",
   "metadata": {},
   "outputs": [],
   "source": [
    "#ADABOOST *********************************************************************\n",
    "\n",
    "ada = ensemble.AdaBoostClassifier()\n",
    "ada.fit(X_train,y_train)\n",
    "yhat_ada = ada.predict(X_test)\n",
    "print('AdaBoost \\n',\n",
    "      'Precision = ', precision_score(y_test, yhat_ada), '\\n',\n",
    "      'Recall = ', recall_score(y_test, yhat_ada), '\\n')\n",
    "#******************************************************************************\n"
   ]
  },
  {
   "cell_type": "code",
   "execution_count": null,
   "id": "8fcf8caa-881c-4dee-acdc-0efb2d12ebbe",
   "metadata": {},
   "outputs": [],
   "source": []
  },
  {
   "cell_type": "code",
   "execution_count": null,
   "id": "a47c837d-8748-4bfb-ac16-ecd4c813396f",
   "metadata": {},
   "outputs": [],
   "source": []
  },
  {
   "cell_type": "code",
   "execution_count": null,
   "id": "c421672c-53f3-4c23-9d3c-ea56a2a5a6e3",
   "metadata": {},
   "outputs": [],
   "source": []
  },
  {
   "cell_type": "code",
   "execution_count": null,
   "id": "462ff890-d24a-4146-8f06-bcea98726b9a",
   "metadata": {},
   "outputs": [],
   "source": []
  },
  {
   "cell_type": "code",
   "execution_count": null,
   "id": "53077be4-2032-4b4f-8c73-58757b36a22a",
   "metadata": {},
   "outputs": [],
   "source": []
  },
  {
   "cell_type": "code",
   "execution_count": null,
   "id": "0f6cf56e-e87e-484f-9403-56e0bfb6ec60",
   "metadata": {},
   "outputs": [],
   "source": []
  },
  {
   "cell_type": "code",
   "execution_count": null,
   "id": "7fff71f4-ef0d-498a-b02e-4d86a0b8fbd2",
   "metadata": {},
   "outputs": [],
   "source": []
  },
  {
   "cell_type": "code",
   "execution_count": null,
   "id": "3c1f6756-5f75-41c6-9026-b688e8a79ed7",
   "metadata": {},
   "outputs": [],
   "source": [
    "#rf_model = RandomForestClassifier(n_estimators=100)\n"
   ]
  },
  {
   "cell_type": "code",
   "execution_count": null,
   "id": "ce7f63a2-5307-4074-ab27-916016782a1c",
   "metadata": {},
   "outputs": [],
   "source": []
  },
  {
   "cell_type": "markdown",
   "id": "ea1c7993-b70e-494d-a7b5-0f17965e567a",
   "metadata": {
    "tags": []
   },
   "source": [
    "## Applying the undersampling technique\n"
   ]
  },
  {
   "cell_type": "markdown",
   "id": "e6c01339-d168-4cc7-95bb-9b9aed8f3bb8",
   "metadata": {},
   "source": [
    "This will make the training set small, but with enough data to generate a good classifier."
   ]
  },
  {
   "cell_type": "code",
   "execution_count": null,
   "id": "e406fcf2-5324-4148-a04d-aadbd49fdcea",
   "metadata": {},
   "outputs": [],
   "source": [
    "from imblearn.under_sampling import RandomUnderSampler\n",
    "\n",
    "\n"
   ]
  },
  {
   "cell_type": "code",
   "execution_count": null,
   "id": "eda16090-06ed-45b1-973f-e522a0d60d06",
   "metadata": {},
   "outputs": [],
   "source": [
    "cat_predictors = ['mcc', 'merchantCountry', 'posEntryMode','hours']\n",
    "num_predictors = ['transactionAmount', 'availableCash','amountMinusAvrg','amountMinusAvrgSpentWeekday']\n",
    "data_pred = compile_dataset(trans, cat_predictors, num_predictors)\n"
   ]
  },
  {
   "cell_type": "code",
   "execution_count": null,
   "id": "759fffb7-d685-4296-9677-f239739b1c53",
   "metadata": {},
   "outputs": [],
   "source": [
    "# x_nor is containing the normalized values of num_predictors, this is only used for LR\n",
    "Feature_cat = trans[cat_predictors]\n",
    "Feature_num = trans[num_predictors]\n",
    "X_nor = preprocessing.StandardScaler().fit(Feature_num).transform(Feature_num)\n",
    "\n",
    "X_nor = pd.DataFrame(X_nor, columns=num_predictors, index = trans.index)\n",
    "#Get dummies \n",
    "X_nor = pd.concat([X_nor,pd.get_dummies(trans['posEntryMode'])], axis=1)\n",
    "X_nor = pd.concat([X_nor,pd.get_dummies(trans['mcc'])], axis=1)\n",
    "X_nor = pd.concat([X_nor,pd.get_dummies(trans['merchantCountry'])], axis=1)\n",
    "X_nor = pd.concat([X_nor,pd.get_dummies(trans['hours'])], axis=1)\n"
   ]
  },
  {
   "cell_type": "code",
   "execution_count": null,
   "id": "f109c7e3-0cbc-491f-bb40-989a0271f7ba",
   "metadata": {},
   "outputs": [],
   "source": [
    "rus = RandomUnderSampler(sampling_strategy=1) # Numerical value\n",
    "X_res, y_res = rus.fit_resample(X_nor, y)\n",
    "ax = y_res.value_counts().plot.pie(autopct='%.2f')\n",
    "_ = ax.set_title(\"Under sampling classes distribution\")\n",
    "\n"
   ]
  },
  {
   "cell_type": "code",
   "execution_count": null,
   "id": "f14f6f9a-d82b-479c-8247-18bb1e2d1081",
   "metadata": {},
   "outputs": [],
   "source": [
    "X_res_train, X_res_test, y_res_train, y_res_test = train_test_split( X_res, y_res, test_size=0.2, random_state=4)\n"
   ]
  },
  {
   "cell_type": "code",
   "execution_count": null,
   "id": "df0a8876-b4d4-4c44-b7d1-cc1483d8d87c",
   "metadata": {},
   "outputs": [],
   "source": [
    "#Logistic Regression *********************************************************\n",
    "\n",
    "lr = LogisticRegression(C=0.01, solver='liblinear').fit(X_res_train,y_res_train)\n",
    "yhat_lr_res = lr.predict(X_res_test)\n",
    "yhat_lr_prob = lr.predict_proba(X_res_test)\n",
    "print('Logistic Regression \\n',\n",
    "      'Precision = ', precision_score(y_test, y_hat_lr), '\\n',\n",
    "      'Recall = ', recall_score(y_test, y_hat_lr), '\\n')\n",
    "#******************************************************************************\n"
   ]
  },
  {
   "cell_type": "code",
   "execution_count": null,
   "id": "0f6cd86f-2974-4916-b682-5c12d899a773",
   "metadata": {},
   "outputs": [],
   "source": [
    "# Undersampling without using normalized X\n",
    "X= data_pred \n",
    "y = trans['Fraud']\n",
    "rus = RandomUnderSampler(sampling_strategy=1) # Numerical value\n",
    "X_res, y_res = rus.fit_resample(X, y)\n",
    "ax = y_res.value_counts().plot.pie(autopct='%.2f')\n"
   ]
  },
  {
   "cell_type": "code",
   "execution_count": null,
   "id": "9fdcc98b-bbbb-4085-8c65-e077d156896d",
   "metadata": {},
   "outputs": [],
   "source": [
    "#Random Forest***********************************************************\n",
    "#balanced: Random Forest  Precision =  0.61| Recall =  0.38\n",
    "\n",
    "rf = RandomForestClassifier()\n",
    "rf.fit(X_train, y_train)\n",
    "\n",
    "y_hat_rf = rf.predict(X_test)\n",
    "print('Random Forest \\n',\n",
    "      'Precision = ', precision_score(y_test, y_hat_rf), '\\n',\n",
    "      'Recall = ', recall_score(y_test, y_hat_rf), '\\n')\n",
    "\n",
    "feat_import = pd.DataFrame({'feature':rf.feature_names_in_,\n",
    "                            'coef':rf.feature_importances_})\n",
    "#******************************************************************************\n",
    "plot_feature_importance(\n",
    "    rf.feature_importances_,\n",
    "    X_train.columns,\n",
    "    'RANDOM FOREST')"
   ]
  },
  {
   "cell_type": "code",
   "execution_count": null,
   "id": "c86c6bdb-40d9-4090-8800-a05f7259fb86",
   "metadata": {},
   "outputs": [],
   "source": [
    "#SVM with NON LINEAR KERNELRS (RBF kernel)*************************************\n",
    "\n",
    "svm_rbf = svm.SVC(kernel='rbf')\n",
    "svm_rbf.fit(X_train, y_train)\n",
    "yhat_rbf = svm_rbf.predict(X_test)\n",
    "print('SVM \\n',\n",
    "      'Precision = ', precision_score(y_test, yhat_rbf), '\\n',\n",
    "      'Recall = ', recall_score(y_test, yhat_rbf), '\\n')\n",
    "#******************************************************************************\n",
    "\n"
   ]
  },
  {
   "cell_type": "code",
   "execution_count": null,
   "id": "2424ccb3-272e-49fd-86c5-9fbd1f77fa69",
   "metadata": {},
   "outputs": [],
   "source": [
    "#ADABOOST *********************************************************************\n",
    "\n",
    "ada = ensemble.AdaBoostClassifier()\n",
    "ada.fit(X_train,y_train)\n",
    "yhat_ada = ada.predict(X_test)\n",
    "print('AdaBoost \\n',\n",
    "      'Precision = ', precision_score(y_test, yhat_ada), '\\n',\n",
    "      'Recall = ', recall_score(y_test, yhat_ada), '\\n')\n",
    "#******************************************************************************\n"
   ]
  },
  {
   "cell_type": "code",
   "execution_count": null,
   "id": "5bfc6a48-5972-42c3-b868-9c49131ea373",
   "metadata": {},
   "outputs": [],
   "source": []
  },
  {
   "cell_type": "code",
   "execution_count": null,
   "id": "cb97fb78-f472-4d19-8edc-47603eb4b5f6",
   "metadata": {},
   "outputs": [],
   "source": []
  },
  {
   "cell_type": "code",
   "execution_count": null,
   "id": "83da57a3-df9a-4093-b48b-7de72c0dcc97",
   "metadata": {},
   "outputs": [],
   "source": []
  },
  {
   "cell_type": "code",
   "execution_count": null,
   "id": "8077d1fe-49a9-4d1f-a26b-c3d734d6bc01",
   "metadata": {},
   "outputs": [],
   "source": []
  },
  {
   "cell_type": "code",
   "execution_count": null,
   "id": "528faecf-d5c5-4211-9d70-c20fbd8ddb17",
   "metadata": {},
   "outputs": [],
   "source": []
  },
  {
   "cell_type": "code",
   "execution_count": null,
   "id": "2a7bfba3-f3f0-4954-b7e3-27bfcc4e852c",
   "metadata": {},
   "outputs": [],
   "source": []
  },
  {
   "cell_type": "code",
   "execution_count": null,
   "id": "3952ca1a-09a3-45fc-bffd-49b0a4d3c2c3",
   "metadata": {},
   "outputs": [],
   "source": []
  },
  {
   "cell_type": "code",
   "execution_count": null,
   "id": "800f3a10-369f-4b55-8066-dd650d3b81f3",
   "metadata": {},
   "outputs": [],
   "source": []
  },
  {
   "cell_type": "code",
   "execution_count": null,
   "id": "e7223b72-7236-41f4-b695-3d65fc101c30",
   "metadata": {},
   "outputs": [],
   "source": []
  },
  {
   "cell_type": "code",
   "execution_count": null,
   "id": "b60b54e7-6cdf-4667-bcba-6f1f10373526",
   "metadata": {},
   "outputs": [],
   "source": []
  },
  {
   "cell_type": "code",
   "execution_count": null,
   "id": "07398142-b279-45c8-88aa-2b8e0b70f5cb",
   "metadata": {},
   "outputs": [],
   "source": []
  },
  {
   "cell_type": "code",
   "execution_count": null,
   "id": "1886d51f-0434-4737-9f80-2174bc2a9fae",
   "metadata": {},
   "outputs": [],
   "source": []
  },
  {
   "cell_type": "code",
   "execution_count": null,
   "id": "381a73c7-4ed9-4179-ae2e-906f22df3b37",
   "metadata": {},
   "outputs": [],
   "source": []
  },
  {
   "cell_type": "code",
   "execution_count": null,
   "id": "556afbc8-5b1f-4706-969a-4072db8b624d",
   "metadata": {},
   "outputs": [],
   "source": []
  },
  {
   "cell_type": "code",
   "execution_count": null,
   "id": "3cff07f8-cebb-4799-85e7-47de2a5ef3b7",
   "metadata": {},
   "outputs": [],
   "source": []
  },
  {
   "cell_type": "code",
   "execution_count": null,
   "id": "a2f88d52-8b02-4fb5-b4c8-2c1842699728",
   "metadata": {},
   "outputs": [],
   "source": []
  },
  {
   "cell_type": "code",
   "execution_count": null,
   "id": "a1ba2fa6-2ddd-48c4-9296-5f583e813ac1",
   "metadata": {},
   "outputs": [],
   "source": []
  },
  {
   "cell_type": "code",
   "execution_count": null,
   "id": "27577566-ea8e-4a96-9e38-2220b58b8887",
   "metadata": {},
   "outputs": [],
   "source": []
  },
  {
   "cell_type": "code",
   "execution_count": null,
   "id": "0934439b-3f82-438c-a116-5ef54c70eafc",
   "metadata": {},
   "outputs": [],
   "source": []
  },
  {
   "cell_type": "code",
   "execution_count": null,
   "id": "f7ccba25-24dc-4f0a-8f9b-9de4ef833a69",
   "metadata": {},
   "outputs": [],
   "source": []
  },
  {
   "cell_type": "code",
   "execution_count": null,
   "id": "fcd587f4-3af0-453e-96c5-cc6e75dc8824",
   "metadata": {},
   "outputs": [],
   "source": [
    "\n",
    "from sklearn.preprocessing import StandardScaler\n",
    "from sklearn.model_selection import train_test_split\n",
    "from sklearn.linear_model import LogisticRegression\n",
    "from sklearn.ensemble import RandomForestClassifier\n",
    "from sklearn.metrics import precision_score, recall_score, f1_score, classification_report\n",
    "\n",
    "\n",
    "def compile_dataset(data, cat_predictors, num_predictors):\n",
    "    data_formatted = pd.DataFrame()\n",
    "    for c in cat_predictors:\n",
    "        data_formatted = pd.concat([data_formatted, pd.get_dummies(data[c], prefix=c)], axis=1)\n",
    "\n",
    "    for n in num_predictors:\n",
    "        data_formatted = pd.concat([data_formatted, data[n]], axis=1)\n",
    "\n",
    "    return data_formatted\n",
    "\n",
    "\n",
    "data_path = os.path.join('FeaturesSpace Homework', 'data', )\n",
    "fraud_fear = pd.read_csv(os.path.join(data_path, 'labels_obf.csv'))\n",
    "\n",
    "data = pd.read_csv(\"///Users/hocine/Desktop/feature_space/data-new/transactions_obf.csv\")\n",
    "\n",
    "# data = pd.read_csv(os.path.join(data_path, 'transactions_obf.csv'))\n",
    "\n",
    "data[['transactionAmount', 'availableCash']] = StandardScaler().fit_transform(\n",
    "    data[['transactionAmount', 'availableCash']])\n",
    "\n",
    "set_fraud_ids = set(fraud_fear.eventId)\n",
    "\n",
    "data['Fraud'] = data.eventId.apply(lambda x: 1 if x in set_fraud_ids else 0)\n",
    "data['transactionTime'] = pd.to_datetime(data['transactionTime'])\n",
    "\n",
    "merchantids = pd.unique(data['merchantId'])\n",
    "mccs = pd.unique(data['mcc'])\n",
    "merchantCountries = pd.unique(data['merchantCountry'])\n",
    "merchantZips = pd.unique(data['merchantZip'])\n",
    "\n",
    "posEntryMode = pd.unique(data['posEntryMode'])\n",
    "\n",
    "columns = ['transactionTime', 'eventId', 'accountNumber', 'merchantId', 'mcc',\n",
    "           'merchantCountry', 'merchantZip', 'posEntryMode', 'transactionAmount',\n",
    "           'availableCash']\n",
    "\n",
    "cat_predictors = ['mcc', 'merchantCountry', 'posEntryMode']\n",
    "num_predictors = ['transactionAmount', 'availableCash']\n",
    "\n",
    "data_pred = compile_dataset(data, cat_predictors, num_predictors)\n",
    "\n",
    "X_train, X_test, y_train, y_test = train_test_split(data_pred, data['Fraud'].tolist(), test_size=0.3)\n",
    "\n",
    "\"\"\"\n",
    "MODELS\n",
    "\"\"\"\n",
    "# Logistic Regression***********************************************************\n",
    "# \"Baseline\" model <=> reference\n",
    "lr = LogisticRegression(class_weight={0: 1,\n",
    "                                      1: 99})\n",
    "# class_weight better than under-sampling cause it keeps ALL the given data\n",
    "lr.fit(X_train, y_train)\n",
    "\n",
    "y_hat = lr.predict(X_test)\n",
    "print('Logistic Regression \\n',\n",
    "      'Precision = ', precision_score(y_test, y_hat), '\\n',\n",
    "      'Recall = ', recall_score(y_test, y_hat), '\\n')\n",
    "# ******************************************************************************\n",
    "\n",
    "# Random Forest\n",
    "# balanced: Random Forest  Precision =  0.61| Recall =  0.38\n",
    "# class weight 1:10  Precision =  0.57 | Recall =  0.42\n",
    "# class weight 1:20 Precision = 0.47 | Recall = 0.43\n",
    "# class weight 1:30 Precision = 0.46 | Recall = 0.42\n",
    "rf = RandomForestClassifier(class_weight={0: 1,\n",
    "                                          1: 30})\n",
    "rf.fit(X_train, y_train)\n",
    "\n",
    "y_hat = rf.predict(X_test)\n",
    "print('Random Forest \\n',\n",
    "      'Precision = ', precision_score(y_test, y_hat), '\\n',\n",
    "      'Recall = ', recall_score(y_test, y_hat), '\\n')\n",
    "\n",
    "feat_import = pd.DataFrame({'feature': rf.feature_names_in_,\n",
    "                            'coef': rf.feature_importances_})\n",
    "# Classes seem to be unseperable (completely). In Other words, there is BIG overlapping between Fraudulent\n",
    "# and non fraudulent (see plots of transactions per account number)\n",
    "# One solution would be to predict according to specefic account Number (RNN for example...)\n",
    "\n",
    "\n",
    "# SVM with NON LINEAR KERNELRS (RBF kernel)\n",
    "# Adaboost\n"
   ]
  }
 ],
 "metadata": {
  "kernelspec": {
   "display_name": "Python 3 (ipykernel)",
   "language": "python",
   "name": "python3"
  },
  "language_info": {
   "codemirror_mode": {
    "name": "ipython",
    "version": 3
   },
   "file_extension": ".py",
   "mimetype": "text/x-python",
   "name": "python",
   "nbconvert_exporter": "python",
   "pygments_lexer": "ipython3",
   "version": "3.9.5"
  }
 },
 "nbformat": 4,
 "nbformat_minor": 5
}
